{
 "cells": [
  {
   "cell_type": "code",
   "execution_count": 1,
   "metadata": {},
   "outputs": [
    {
     "name": "stderr",
     "output_type": "stream",
     "text": [
      "2023-11-27 19:59:45.942 \n",
      "  \u001b[33m\u001b[1mWarning:\u001b[0m to view this Streamlit app on a browser, run it with the following\n",
      "  command:\n",
      "\n",
      "    streamlit run c:\\Users\\gaofa\\miniconda3\\envs\\stat386\\lib\\site-packages\\ipykernel_launcher.py [ARGUMENTS]\n"
     ]
    },
    {
     "data": {
      "text/plain": [
       "DeltaGenerator()"
      ]
     },
     "execution_count": 1,
     "metadata": {},
     "output_type": "execute_result"
    }
   ],
   "source": [
    "import pandas as pd\n",
    "import numpy as np\n",
    "import streamlit as st\n",
    "import plotly.express as px\n",
    "\n",
    "st.title('Popular Names')\n",
    "\n",
    "url = 'https://github.com/esnt/Data/raw/main/Names/popular_names.csv'\n",
    "\n",
    "df = pd.read_csv(url)\n",
    "\n",
    "selected_name = st.text_input('Enter a name', 'John') #First field is prompt, second field is default\n",
    "\n",
    "name_df = df[df['name'] == selected_name]\n",
    "\n",
    "if name_df.empty:\n",
    "    st.write('Name not found :(')\n",
    "else:\n",
    "    fig = px.line(name_df, x = 'year', y = 'n', color = 'sex',\n",
    "                  color_discrete_sequence = ['blue','red'])\n",
    "    st.plotly_chart(fig)\n",
    "\n",
    "selected_year = st.selectbox('Select a year', df['year'].unique())\n",
    "\n",
    "year_df = df[df['year'] == selected_year]\n",
    "fnames = year_df[year_df['sex'] == 'F'].sort_values(by = 'n', ascending = False).head(5)\n",
    "mnames = year_df[year_df['sex'] == 'M'].sort_values(by = 'n', ascending = False).head(5)\n",
    "\n",
    "top_names = pd.concat([fnames, mnames], axis = 0) \n",
    "\n",
    "st.write(f'Top names in {selected_year}:')\n",
    "st.dataframe(top_names)"
   ]
  }
 ],
 "metadata": {
  "kernelspec": {
   "display_name": "stat386",
   "language": "python",
   "name": "python3"
  },
  "language_info": {
   "codemirror_mode": {
    "name": "ipython",
    "version": 3
   },
   "file_extension": ".py",
   "mimetype": "text/x-python",
   "name": "python",
   "nbconvert_exporter": "python",
   "pygments_lexer": "ipython3",
   "version": "3.10.12"
  }
 },
 "nbformat": 4,
 "nbformat_minor": 2
}
